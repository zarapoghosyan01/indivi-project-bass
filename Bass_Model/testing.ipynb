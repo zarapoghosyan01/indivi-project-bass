{
 "cells": [
  {
   "cell_type": "code",
   "execution_count": null,
   "metadata": {},
   "outputs": [],
   "source": [
    "from Base_Bass import BassDiffusionModel\n",
    "\n",
    "if __name__ == '__main__':\n",
    "    bdm = BassDiffusionModel('C:\\\\Users\\\\Lenovo\\\\Desktop\\\\AUA\\\\indiv. project\\\\salesmonthly.csv')\n",
    "\n",
    "    # Test problemsolver function\n",
    "    print(bdm.problemsolver())\n",
    "\n",
    "    # Test plot function\n",
    "    bdm.plot()\n",
    "\n",
    "    # Test summary function\n",
    "    print(bdm.summary())"
   ]
  }
 ],
 "metadata": {
  "language_info": {
   "name": "python"
  },
  "orig_nbformat": 4
 },
 "nbformat": 4,
 "nbformat_minor": 2
}
